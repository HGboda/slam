{
 "cells": [
  {
   "cell_type": "code",
   "execution_count": null,
   "metadata": {
    "collapsed": false,
    "scrolled": true
   },
   "outputs": [],
   "source": [
    "# %matplotlib inline\n",
    "%run slam.py"
   ]
  },
  {
   "cell_type": "code",
   "execution_count": null,
   "metadata": {
    "collapsed": false
   },
   "outputs": [],
   "source": [
    "import pylab as plt\n",
    "import numpy as np\n",
    "\n",
    "X = np.linspace(0,2,1000)\n",
    "Y = X**2 + np.random.random(X.shape)\n",
    "\n",
    "plt.ion()\n",
    "graph = plt.plot(X,Y)[0]\n",
    "\n",
    "while True:\n",
    "    Y = X**2 + np.random.random(X.shape)\n",
    "    graph.set_ydata(Y)\n",
    "    plt.draw()"
   ]
  },
  {
   "cell_type": "code",
   "execution_count": null,
   "metadata": {
    "collapsed": false
   },
   "outputs": [],
   "source": [
    "global LaserD\n",
    "global SonarD\n",
    "print len(LaserD)\n",
    "print len(LaserD[1]),len(LaserD[2]),len(LaserD[0][1:])\n",
    "\n",
    "print len(SonarD)\n",
    "print len(SonarD[1]),len(SonarD[2]),len(SonarD[0][1:])\n",
    "\n",
    "Snew = LaserD[1][1:]\n",
    "print len(Snew)\n",
    "# print LaserD\n",
    "# fig = plt.figure()\n",
    "        \n",
    "# for cnt in range(len(Snew)):\n",
    "#     plt.scatter(float(Snew[cnt]),float(Snew[cnt+1]),marker='*')\n",
    "#     plt.scatter(float(Snew[cnt+2]),float(Snew[cnt+3]),marker='*')\n",
    "#     plt.show()"
   ]
  },
  {
   "cell_type": "code",
   "execution_count": null,
   "metadata": {
    "collapsed": false
   },
   "outputs": [],
   "source": [
    "import matplotlib.pyplot as plt\n",
    "import matplotlib.animation as animation\n",
    "import time\n",
    "\n",
    "fig = plt.figure()\n",
    "ax1 = fig.add_subplot(1,1,1)\n",
    "\n",
    "def animate(i):\n",
    "    pullData = open(\"sampleText.txt\",\"r\").read()\n",
    "    dataArray = pullData.split('\\n')\n",
    "    xar = []\n",
    "    yar = []\n",
    "    for eachLine in dataArray:\n",
    "        if len(eachLine)>1:\n",
    "            x,y = eachLine.split(',')\n",
    "            xar.append(int(x))\n",
    "            yar.append(int(y))\n",
    "    ax1.clear()\n",
    "    ax1.plot(xar,yar)\n",
    "    \n",
    "ani = animation.FuncAnimation(fig, animate, interval=1000)\n",
    "plt.show()"
   ]
  },
  {
   "cell_type": "code",
   "execution_count": null,
   "metadata": {
    "collapsed": false
   },
   "outputs": [],
   "source": [
    "import matplotlib.pyplot as plt\n",
    "import time\n",
    "import threading\n",
    "import random\n",
    "\n",
    "data = []\n",
    "\n",
    "# This just simulates reading from a socket.\n",
    "def data_listener():\n",
    "    while True:\n",
    "        time.sleep(1)\n",
    "        data.append(random.random())\n",
    "\n",
    "if __name__ == '__main__':\n",
    "    thread = threading.Thread(target=data_listener)\n",
    "    thread.daemon = True\n",
    "    thread.start()\n",
    "    #\n",
    "    # initialize figure\n",
    "    plt.figure() \n",
    "    ln, = plt.plot([])\n",
    "    plt.ion()\n",
    "    plt.show()\n",
    "    while True:\n",
    "        plt.pause(1)\n",
    "        ln.set_xdata(range(len(data)))\n",
    "        ln.set_ydata(data)\n",
    "        plt.draw()"
   ]
  }
 ],
 "metadata": {
  "kernelspec": {
   "display_name": "Python 2",
   "language": "python",
   "name": "python2"
  },
  "language_info": {
   "codemirror_mode": {
    "name": "ipython",
    "version": 2
   },
   "file_extension": ".py",
   "mimetype": "text/x-python",
   "name": "python",
   "nbconvert_exporter": "python",
   "pygments_lexer": "ipython2",
   "version": "2.7.11"
  }
 },
 "nbformat": 4,
 "nbformat_minor": 0
}
